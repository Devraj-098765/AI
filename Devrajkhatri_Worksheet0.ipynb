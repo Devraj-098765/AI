{
  "nbformat": 4,
  "nbformat_minor": 0,
  "metadata": {
    "colab": {
      "provenance": []
    },
    "kernelspec": {
      "name": "python3",
      "display_name": "Python 3"
    },
    "language_info": {
      "name": "python"
    }
  },
  "cells": [
    {
      "cell_type": "markdown",
      "source": [
        "**4. TO - DO - Task**\n",
        "\n",
        "**4.1 Exercises on Functions**\n",
        "\n",
        " Task 1\n",
        "\n"
      ],
      "metadata": {
        "id": "TqcBUz1j2rRB"
      }
    },
    {
      "cell_type": "code",
      "execution_count": 1,
      "metadata": {
        "colab": {
          "base_uri": "https://localhost:8080/"
        },
        "id": "7ZHsLb7l2fAV",
        "outputId": "198a55b8-516c-48f5-d270-53adc590c62f"
      },
      "outputs": [
        {
          "output_type": "stream",
          "name": "stdout",
          "text": [
            "Unit Converter\n",
            "1. Length (meters to feet, feet to meters)\n",
            "2. Weight (kilograms to pounds, pounds to kilograms)\n",
            "3. Volume (liters to gallons, gallons to liters)\n",
            "Choose a conversion type (1-3): 3\n",
            "1. Liters to Gallons\n",
            "2. Gallons to Liters\n",
            "Choose conversion (1-2): 1\n",
            "Enter liters: 2\n",
            "2.0 L = 0.53 gal\n"
          ]
        }
      ],
      "source": [
        "def meters_to_feet(meters):\n",
        "    \"\"\"\n",
        "    Convert meters to feet.\n",
        "    :param meters: Value in meters (float)\n",
        "    :return: Equivalent value in feet (float)\n",
        "    \"\"\"\n",
        "    return meters * 3.28084\n",
        "\n",
        "def feet_to_meters(feet):\n",
        "    \"\"\"\n",
        "    Convert feet to meters.\n",
        "    :param feet: Value in feet (float)\n",
        "    :return: Equivalent value in meters (float)\n",
        "    \"\"\"\n",
        "    return feet / 3.28084\n",
        "\n",
        "def kilograms_to_pounds(kg):\n",
        "    \"\"\"\n",
        "    Convert kilograms to pounds.\n",
        "    :param kg: Value in kilograms (float)\n",
        "    :return: Equivalent value in pounds (float)\n",
        "    \"\"\"\n",
        "    return kg * 2.20462\n",
        "\n",
        "def pounds_to_kilograms(lbs):\n",
        "    \"\"\"\n",
        "    Convert pounds to kilograms.\n",
        "    :param lbs: Value in pounds (float)\n",
        "    :return: Equivalent value in kilograms (float)\n",
        "    \"\"\"\n",
        "    return lbs / 2.20462\n",
        "\n",
        "def liters_to_gallons(liters):\n",
        "    \"\"\"\n",
        "    Convert liters to gallons.\n",
        "    :param liters: Value in liters (float)\n",
        "    :return: Equivalent value in gallons (float)\n",
        "    \"\"\"\n",
        "    return liters * 0.264172\n",
        "\n",
        "def gallons_to_liters(gallons):\n",
        "    \"\"\"\n",
        "    Convert gallons to liters.\n",
        "    :param gallons: Value in gallons (float)\n",
        "    :return: Equivalent value in liters (float)\n",
        "    \"\"\"\n",
        "    return gallons / 0.264172\n",
        "\n",
        "def main():\n",
        "    print(\"Unit Converter\")\n",
        "    print(\"1. Length (meters to feet, feet to meters)\")\n",
        "    print(\"2. Weight (kilograms to pounds, pounds to kilograms)\")\n",
        "    print(\"3. Volume (liters to gallons, gallons to liters)\")\n",
        "\n",
        "    try:\n",
        "        choice = int(input(\"Choose a conversion type (1-3): \"))\n",
        "        if choice == 1:\n",
        "            print(\"1. Meters to Feet\")\n",
        "            print(\"2. Feet to Meters\")\n",
        "            sub_choice = int(input(\"Choose conversion (1-2): \"))\n",
        "            if sub_choice == 1:\n",
        "                value = float(input(\"Enter meters: \"))\n",
        "                print(f\"{value} meters = {meters_to_feet(value):.2f} feet\")\n",
        "            elif sub_choice == 2:\n",
        "                value = float(input(\"Enter feet: \"))\n",
        "                print(f\"{value} feet = {feet_to_meters(value):.2f} meters\")\n",
        "            else:\n",
        "                print(\"Invalid choice.\")\n",
        "        elif choice == 2:\n",
        "            print(\"1. Kilograms to Pounds\")\n",
        "            print(\"2. Pounds to Kilograms\")\n",
        "            sub_choice = int(input(\"Choose conversion (1-2): \"))\n",
        "            if sub_choice == 1:\n",
        "                value = float(input(\"Enter kilograms: \"))\n",
        "                print(f\"{value} kg = {kilograms_to_pounds(value):.2f} lbs\")\n",
        "            elif sub_choice == 2:\n",
        "                value = float(input(\"Enter pounds: \"))\n",
        "                print(f\"{value} lbs = {pounds_to_kilograms(value):.2f} kg\")\n",
        "            else:\n",
        "                print(\"Invalid choice.\")\n",
        "        elif choice == 3:\n",
        "            print(\"1. Liters to Gallons\")\n",
        "            print(\"2. Gallons to Liters\")\n",
        "            sub_choice = int(input(\"Choose conversion (1-2): \"))\n",
        "            if sub_choice == 1:\n",
        "                value = float(input(\"Enter liters: \"))\n",
        "                print(f\"{value} L = {liters_to_gallons(value):.2f} gal\")\n",
        "            elif sub_choice == 2:\n",
        "                value = float(input(\"Enter gallons: \"))\n",
        "                print(f\"{value} gal = {gallons_to_liters(value):.2f} L\")\n",
        "            else:\n",
        "                print(\"Invalid choice.\")\n",
        "        else:\n",
        "            print(\"Invalid choice. Please select a valid option.\")\n",
        "    except ValueError:\n",
        "        print(\"Invalid input. Please enter a numeric value.\")\n",
        "\n",
        "if __name__ == \"__main__\":\n",
        "    main()"
      ]
    },
    {
      "cell_type": "markdown",
      "source": [
        "Tasks 2"
      ],
      "metadata": {
        "id": "HPMD5tq63hS1"
      }
    },
    {
      "cell_type": "code",
      "source": [
        "def calculate_sum(numbers):\n",
        "    \"\"\"\n",
        "    Calculate the sum of a list of numbers.\n",
        "\n",
        "    :param numbers: List of numerical values.\n",
        "    :return: Sum of the numbers.\n",
        "    \"\"\"\n",
        "    return sum(numbers)\n",
        "\n",
        "def calculate_average(numbers):\n",
        "    \"\"\"\n",
        "    Calculate the average of a list of numbers.\n",
        "\n",
        "    :param numbers: List of numerical values.\n",
        "    :return: Average of the numbers.\n",
        "    \"\"\"\n",
        "    return sum(numbers) / len(numbers) if numbers else 0\n",
        "\n",
        "def find_maximum(numbers):\n",
        "    \"\"\"\n",
        "    Find the maximum value in a list of numbers.\n",
        "\n",
        "    :param numbers: List of numerical values.\n",
        "    :return: Maximum value in the list.\n",
        "    \"\"\"\n",
        "    return max(numbers)\n",
        "\n",
        "def find_minimum(numbers):\n",
        "    \"\"\"\n",
        "    Find the minimum value in a list of numbers.\n",
        "\n",
        "    :param numbers: List of numerical values.\n",
        "    :return: Minimum value in the list.\n",
        "    \"\"\"\n",
        "    return min(numbers)\n",
        "\n",
        "def main():\n",
        "    print(\"Mathematical Operations on a List\")\n",
        "    print(\"1. Sum\")\n",
        "    print(\"2. Average\")\n",
        "    print(\"3. Maximum\")\n",
        "    print(\"4. Minimum\")\n",
        "\n",
        "    try:\n",
        "        choice = int(input(\"Choose an operation (1-4): \"))\n",
        "        numbers = input(\"Enter a list of numbers separated by spaces: \").split()\n",
        "\n",
        "        # Convert input to a list of floats\n",
        "        numbers = [float(num) for num in numbers]\n",
        "\n",
        "        if not numbers:\n",
        "            raise ValueError(\"The list is empty. Please enter some numbers.\")\n",
        "\n",
        "        if choice == 1:\n",
        "            print(f\"Sum: {calculate_sum(numbers)}\")\n",
        "        elif choice == 2:\n",
        "            print(f\"Average: {calculate_average(numbers):.2f}\")\n",
        "        elif choice == 3:\n",
        "            print(f\"Maximum: {find_maximum(numbers)}\")\n",
        "        elif choice == 4:\n",
        "            print(f\"Minimum: {find_minimum(numbers)}\")\n",
        "        else:\n",
        "            print(\"Invalid choice. Please select a valid option.\")\n",
        "\n",
        "    except ValueError as e:\n",
        "        print(f\"Error: {e}. Please enter valid numerical values.\")\n",
        "\n",
        "if __name__ == \"__main__\":\n",
        "    main()"
      ],
      "metadata": {
        "colab": {
          "base_uri": "https://localhost:8080/"
        },
        "id": "-AcjO--y3ima",
        "outputId": "af48c656-7fb3-4cd3-a58c-af7bcfcfd21d"
      },
      "execution_count": 2,
      "outputs": [
        {
          "output_type": "stream",
          "name": "stdout",
          "text": [
            "Mathematical Operations on a List\n",
            "1. Sum\n",
            "2. Average\n",
            "3. Maximum\n",
            "4. Minimum\n",
            "Choose an operation (1-4): 3\n",
            "Enter a list of numbers separated by spaces: 4\n",
            "Maximum: 4.0\n"
          ]
        }
      ]
    },
    {
      "cell_type": "markdown",
      "source": [
        "**4.2 Exercise on List Manipulation**\n",
        "\n",
        "1. Extract Every Other Element"
      ],
      "metadata": {
        "id": "RsJN6I1F4L24"
      }
    },
    {
      "cell_type": "code",
      "source": [
        "def extract_every_other(lst):\n",
        "    \"\"\"\n",
        "    Extract every other element from a list, starting from the first element.\n",
        "\n",
        "    :param lst: List of elements.\n",
        "    :return: A new list containing every other element.\n",
        "    \"\"\"\n",
        "    return lst[::2]  # Using list slicing to get every second element\n",
        "\n",
        "num_list = [1, 2, 3, 4, 5, 6]\n",
        "result = extract_every_other(num_list)\n",
        "print(result)"
      ],
      "metadata": {
        "colab": {
          "base_uri": "https://localhost:8080/"
        },
        "id": "nyn-QJLC4hid",
        "outputId": "6d446e47-253b-49cb-b459-54223bd428bc"
      },
      "execution_count": 3,
      "outputs": [
        {
          "output_type": "stream",
          "name": "stdout",
          "text": [
            "[1, 3, 5]\n"
          ]
        }
      ]
    },
    {
      "cell_type": "markdown",
      "source": [
        "2. Slice a Sublist"
      ],
      "metadata": {
        "id": "kjwbsM3Ze1hK"
      }
    },
    {
      "cell_type": "code",
      "source": [
        "def get_sublist(lst, start, end):\n",
        "  \"\"\"\n",
        "  Returns a sublist from the given list, starting from 'start' index and ending at 'end' index (inclusive).\n",
        "\n",
        "  :param lst: List from which sublist is to be extracted\n",
        "  :param start: Starting index of the sublist\n",
        "  :param end: Ending index of the sublist (inclusive)\n",
        "  :return: Sublist from start to end index (inclusive)\n",
        "  \"\"\"\n",
        "  return lst[start:end+1]\n",
        "\n",
        "start = 2\n",
        "end = 4\n",
        "lst = [1,2,3,4,5,6]\n",
        "print(\"Output: \",get_sublist(lst, start, end))"
      ],
      "metadata": {
        "colab": {
          "base_uri": "https://localhost:8080/"
        },
        "id": "vEq_-smYepmR",
        "outputId": "90c8caff-459f-4b2c-86a4-f6e733da5b21"
      },
      "execution_count": 4,
      "outputs": [
        {
          "output_type": "stream",
          "name": "stdout",
          "text": [
            "Output:  [3, 4, 5]\n"
          ]
        }
      ]
    },
    {
      "cell_type": "markdown",
      "source": [
        "3. Reverse a List Using Slicing"
      ],
      "metadata": {
        "id": "0jhHgwUJgth2"
      }
    },
    {
      "cell_type": "code",
      "source": [
        "def reverse_list(lst):\n",
        "  \"\"\"\n",
        "  Returns a reversed list using slicing.\n",
        "\n",
        "  :param lst: List to be reversed\n",
        "  :return: Reversed list\n",
        "  \"\"\"\n",
        "\n",
        "  return lst[::-1]\n",
        "\n",
        "lst = [1,2,3,4,5,6,7,8,9]\n",
        "print(\"Reverse list: \",reverse_list(lst))"
      ],
      "metadata": {
        "colab": {
          "base_uri": "https://localhost:8080/"
        },
        "id": "MX769ncOfAmh",
        "outputId": "d08f4329-a92c-4137-c892-965cb9c95883"
      },
      "execution_count": 5,
      "outputs": [
        {
          "output_type": "stream",
          "name": "stdout",
          "text": [
            "Reverse list:  [9, 8, 7, 6, 5, 4, 3, 2, 1]\n"
          ]
        }
      ]
    },
    {
      "cell_type": "markdown",
      "source": [
        "4. Remove the First and Last Elements"
      ],
      "metadata": {
        "id": "Q6Do2IkXld2f"
      }
    },
    {
      "cell_type": "code",
      "source": [
        "def remove_first_last(lst):\n",
        "  \"\"\"\n",
        "  Removes the first and last elements of a list and returns the resulting sublist.\n",
        "\n",
        "  :param lst: List from which first and last elements should be removed\n",
        "  :return: Sublist without the first and last elements\n",
        "  \"\"\"\n",
        "  return lst[1:-1]\n",
        "\n",
        "list = [1,2,5,2,3,6,1]\n",
        "print(\"Sublist: \",remove_first_last(list))"
      ],
      "metadata": {
        "colab": {
          "base_uri": "https://localhost:8080/"
        },
        "id": "5aBLvjvDlUee",
        "outputId": "8d50673b-f6d6-4f8c-92fd-1f537ec27a29"
      },
      "execution_count": 6,
      "outputs": [
        {
          "output_type": "stream",
          "name": "stdout",
          "text": [
            "Sublist:  [2, 5, 2, 3, 6]\n"
          ]
        }
      ]
    },
    {
      "cell_type": "markdown",
      "source": [
        "5. Get the First n Elements"
      ],
      "metadata": {
        "id": "fVSmb81TmYW3"
      }
    },
    {
      "cell_type": "code",
      "source": [
        "def get_first_n(lst, n):\n",
        "  \"\"\"\n",
        "  Returns the first n elements from a given list using slicing.\n",
        "\n",
        "  :param lst: List from which elements are to be extracted\n",
        "  :param n: Number of elements to extract from the beginning\n",
        "  :return: List containing the first n elements\n",
        "  \"\"\"\n",
        "  return lst[:n]\n",
        "\n",
        "num = 4\n",
        "list = [3,2,5,8,9,1,2]\n",
        "print(\"First nth elements: \", get_first_n(list,num))\n"
      ],
      "metadata": {
        "colab": {
          "base_uri": "https://localhost:8080/"
        },
        "id": "YDCFZY9RmX84",
        "outputId": "2d6044c4-0d85-4d9f-bb31-32225c2c694c"
      },
      "execution_count": 7,
      "outputs": [
        {
          "output_type": "stream",
          "name": "stdout",
          "text": [
            "First nth elements:  [3, 2, 5, 8]\n"
          ]
        }
      ]
    },
    {
      "cell_type": "markdown",
      "source": [
        "6. Extract Elements from the End"
      ],
      "metadata": {
        "id": "Mnf2ni0yoXVP"
      }
    },
    {
      "cell_type": "code",
      "source": [
        "def get_last_n(lst, n):\n",
        "  \"\"\"\n",
        "  Returns the last n elements from a given list using slicing.\n",
        "\n",
        "  :param lst: List from which elements are to be extracted\n",
        "  :param n: Number of elements to extract from the end\n",
        "  :return: List containing the last n elements\n",
        "  \"\"\"\n",
        "  return lst[-n:] if n > 0 else []\n",
        "\n",
        "num = 2\n",
        "list = [3,2,5,8,9,1,2]\n",
        "print(\"First nth elements: \", get_last_n(list,num))"
      ],
      "metadata": {
        "colab": {
          "base_uri": "https://localhost:8080/"
        },
        "id": "oJTA_4rOoND8",
        "outputId": "8f05e350-17f7-40c8-9bcd-c98e87b28971"
      },
      "execution_count": 8,
      "outputs": [
        {
          "output_type": "stream",
          "name": "stdout",
          "text": [
            "First nth elements:  [1, 2]\n"
          ]
        }
      ]
    },
    {
      "cell_type": "markdown",
      "source": [
        "7. Extract Elements in Reverse Order"
      ],
      "metadata": {
        "id": "jDwN3_6Tpvna"
      }
    },
    {
      "cell_type": "code",
      "source": [
        "def reverse_skip(lst):\n",
        "  \"\"\"\n",
        "  Returns a list of elements in reverse order, starting from the second-to-last element\n",
        "  and skipping one element in between.\n",
        "\n",
        "  :param lst: List from which elements are to be extracted\n",
        "  :return: New list containing every second element in reverse order\n",
        "  \"\"\"\n",
        "\n",
        "  return lst[-2::-2]\n",
        "\n",
        "list = [2,1,3,6,7,9]\n",
        "\n",
        "print(\"New list: \",reverse_skip(list))"
      ],
      "metadata": {
        "colab": {
          "base_uri": "https://localhost:8080/"
        },
        "id": "s2Yf1QUfpvV6",
        "outputId": "6227ef28-6112-48d0-b4fa-ed6c934f6db3"
      },
      "execution_count": 9,
      "outputs": [
        {
          "output_type": "stream",
          "name": "stdout",
          "text": [
            "New list:  [7, 3, 2]\n"
          ]
        }
      ]
    },
    {
      "cell_type": "markdown",
      "source": [
        "**4.3 Exercise on Nested List**\n",
        "1. Flatten a Nested List"
      ],
      "metadata": {
        "id": "0nLFzm0erPP4"
      }
    },
    {
      "cell_type": "code",
      "source": [
        "def flatten(lst):\n",
        "  flat_list = []\n",
        "  for row in lst:\n",
        "    flat_list.extend(row)\n",
        "  return flat_list\n",
        "\n",
        "\n",
        "list = [[1,2,3],[6,7,8],[3,2,1]]\n",
        "print(\"Flatten list: \",flatten(list))"
      ],
      "metadata": {
        "colab": {
          "base_uri": "https://localhost:8080/"
        },
        "id": "EyDCQJmnrG9Y",
        "outputId": "565c5881-007a-4a71-b356-85de819cb0c0"
      },
      "execution_count": 10,
      "outputs": [
        {
          "output_type": "stream",
          "name": "stdout",
          "text": [
            "Flatten list:  [1, 2, 3, 6, 7, 8, 3, 2, 1]\n"
          ]
        }
      ]
    },
    {
      "cell_type": "markdown",
      "source": [
        "2. Accessing Nested List Elements"
      ],
      "metadata": {
        "id": "NRv6iLuxsqFj"
      }
    },
    {
      "cell_type": "code",
      "source": [
        "def access_nested_element(lst, indices):\n",
        "    element = lst\n",
        "    for index in indices:\n",
        "        element = element[index]\n",
        "    return element\n",
        "\n",
        "\n",
        "nested_list = [[1, 2, 3], [4, 5, 6], [7, 8, 9]]\n",
        "indices = [1, 2]\n",
        "print(\"Nested List Elements: \",access_nested_element(nested_list, indices))"
      ],
      "metadata": {
        "colab": {
          "base_uri": "https://localhost:8080/"
        },
        "id": "GyT0lPhnsp0Y",
        "outputId": "d3fc902c-9f15-4469-d5ca-d42ce3510c77"
      },
      "execution_count": 11,
      "outputs": [
        {
          "output_type": "stream",
          "name": "stdout",
          "text": [
            "Nested List Elements:  6\n"
          ]
        }
      ]
    },
    {
      "cell_type": "markdown",
      "source": [
        "3. Sum of All Elements in a Nested List"
      ],
      "metadata": {
        "id": "4uuFBvFItYnx"
      }
    },
    {
      "cell_type": "code",
      "source": [
        "def sum_nested(lst):\n",
        "    # List comprehension answer ->\n",
        "    # return [item for sublist in lst for item in sublist]\n",
        "    res = []\n",
        "    for i in lst:\n",
        "        for j in i:\n",
        "            res.append(j)\n",
        "\n",
        "    return sum(res)\n",
        "\n",
        "res = sum_nested([[1, 2], [3, 4], [5]])\n",
        "print(\"Sum of Elements: \",res)"
      ],
      "metadata": {
        "id": "HMvh0yvstYD1",
        "colab": {
          "base_uri": "https://localhost:8080/"
        },
        "outputId": "029d2bb7-42c3-455f-aa9f-3b0aff26197e"
      },
      "execution_count": 12,
      "outputs": [
        {
          "output_type": "stream",
          "name": "stdout",
          "text": [
            "Sum of Elements:  15\n"
          ]
        }
      ]
    },
    {
      "cell_type": "markdown",
      "source": [
        "4. Remove Specific Element from a Nested List"
      ],
      "metadata": {
        "id": "eEWh2-revGp5"
      }
    },
    {
      "cell_type": "code",
      "source": [
        "def remove_element(lst, elem):\n",
        "    for i in lst:\n",
        "        if elem in i:\n",
        "            i.remove(elem)\n",
        "\n",
        "    return lst\n",
        "\n",
        "res = remove_element([[1, 2], [3, 4], [2,5]], 2)\n",
        "print(\"New list: \",res)"
      ],
      "metadata": {
        "id": "yRryzlmxgaP2",
        "colab": {
          "base_uri": "https://localhost:8080/"
        },
        "outputId": "73189ca6-5b6a-4252-a34a-6687cda5770a"
      },
      "execution_count": 13,
      "outputs": [
        {
          "output_type": "stream",
          "name": "stdout",
          "text": [
            "New list:  [[1], [3, 4], [5]]\n"
          ]
        }
      ]
    },
    {
      "cell_type": "markdown",
      "source": [
        "5. Find the Maximum Element in a Nested List"
      ],
      "metadata": {
        "id": "iF1l0dFSgN9y"
      }
    },
    {
      "cell_type": "code",
      "source": [
        "def flatten_list(lst):\n",
        "    # convert it to string, strip unnecessary characters\n",
        "    tmp = str(lst)\n",
        "    tmp = tmp.strip(\"[]\")\n",
        "    tmp = tmp.replace(\"[\", \"\").replace(\"]\", \"\").replace(\" \", \"\")\n",
        "    t_arr = tmp.split(\",\")\n",
        "\n",
        "    return [int(i) for i in t_arr]\n",
        "\n",
        "\n",
        "def find_max(lst):\n",
        "    return max(flatten_list(lst))\n",
        "\n",
        "print(\"Maximum Element in a Nested List: \",find_max([[1, 2], [3, [4, 5]], 6]))"
      ],
      "metadata": {
        "id": "YBwc02hvtfvk",
        "colab": {
          "base_uri": "https://localhost:8080/"
        },
        "outputId": "6f4b5fe9-ff26-4c06-d448-0423bc0032d8"
      },
      "execution_count": 14,
      "outputs": [
        {
          "output_type": "stream",
          "name": "stdout",
          "text": [
            "Maximum Element in a Nested List:  6\n"
          ]
        }
      ]
    },
    {
      "cell_type": "markdown",
      "source": [
        "6. Count Occurrences of an Element in a Nested List"
      ],
      "metadata": {
        "id": "H2Stb8OKgSR_"
      }
    },
    {
      "cell_type": "code",
      "source": [
        "def count_occurrences(lst, elem):\n",
        "    \"\"\"\n",
        "    Counts the occurrences of an element in a nested list.\n",
        "\n",
        "    Args:\n",
        "        lst: The nested list to search.\n",
        "        elem: The element to count.\n",
        "\n",
        "    Returns:\n",
        "        The number of times the element appears in the list.\n",
        "    \"\"\"\n",
        "    count = 0\n",
        "    for sublist in lst:\n",
        "        for item in sublist:\n",
        "            if item == elem:\n",
        "                count += 1\n",
        "    return count\n",
        "lst = [[1, 2], [2, 3], [2, 4]]\n",
        "elem = 2\n",
        "print(\"Occurrences Count: \",count_occurrences(lst, elem))"
      ],
      "metadata": {
        "id": "vxfRHgLavHY8",
        "colab": {
          "base_uri": "https://localhost:8080/"
        },
        "outputId": "7f56563b-63d6-4c6c-815e-686c40107af4"
      },
      "execution_count": 15,
      "outputs": [
        {
          "output_type": "stream",
          "name": "stdout",
          "text": [
            "Occurrences Count:  3\n"
          ]
        }
      ]
    },
    {
      "cell_type": "markdown",
      "source": [
        "7. Flatten a List of Lists of Lists"
      ],
      "metadata": {
        "id": "sjwKZEb8gXW4"
      }
    },
    {
      "cell_type": "code",
      "source": [
        "def deep_flatten(lst):\n",
        "    # convert it to string, strip unnecessary characters\n",
        "    tmp = str(lst)\n",
        "    tmp = tmp.strip(\"[]\")\n",
        "    tmp = tmp.replace(\"[\", \"\").replace(\"]\", \"\").replace(\" \", \"\")\n",
        "    t_arr = tmp.split(\",\")\n",
        "\n",
        "    return [int(i) for i in t_arr]\n",
        "\n",
        "print(\"List: \",deep_flatten([[1, 2], [3, [4, 5]], 6]))"
      ],
      "metadata": {
        "id": "asErn7hYaF5u",
        "colab": {
          "base_uri": "https://localhost:8080/"
        },
        "outputId": "621b87d9-d507-444a-c879-da9bfb25da0c"
      },
      "execution_count": 16,
      "outputs": [
        {
          "output_type": "stream",
          "name": "stdout",
          "text": [
            "List:  [1, 2, 3, 4, 5, 6]\n"
          ]
        }
      ]
    },
    {
      "cell_type": "markdown",
      "source": [
        "8. Nested List Average"
      ],
      "metadata": {
        "id": "KsdxtfLJgcTp"
      }
    },
    {
      "cell_type": "code",
      "source": [
        "def average_nested(lst):\n",
        "    \"\"\"\n",
        "    Calculate the average of all elements in a nested list.\n",
        "\n",
        "    Args:\n",
        "        lst: A nested list of numbers.\n",
        "\n",
        "    Returns:\n",
        "        The average of all elements in the nested list.\n",
        "        Returns 0 if the list is empty or contains no numbers.\n",
        "    \"\"\"\n",
        "    total = 0\n",
        "    count = 0\n",
        "    for sublist in lst:\n",
        "        for num in sublist:\n",
        "            try:\n",
        "                total += num\n",
        "                count += 1\n",
        "            except TypeError:\n",
        "                # Handle cases where a sublist element isn't a number\n",
        "                print(f\"Warning: Non-numeric element '{num}' encountered. Skipping.\")\n",
        "                continue\n",
        "    return total / count if count > 0 else 0\n",
        "\n",
        "list = [[1, 2], [3, 4], [5, 6]]\n",
        "print(\"The average: \",average_nested(list))"
      ],
      "metadata": {
        "colab": {
          "base_uri": "https://localhost:8080/"
        },
        "id": "DWwZjRhVaFqH",
        "outputId": "6fd5eadc-eb15-4224-c284-6886b2272b10"
      },
      "execution_count": 17,
      "outputs": [
        {
          "output_type": "stream",
          "name": "stdout",
          "text": [
            "The average:  3.5\n"
          ]
        }
      ]
    },
    {
      "cell_type": "markdown",
      "source": [
        "**10. To - Do - NumPy**\n",
        "\n",
        "**10.1 Basic Vector and Matrix Operation with Numpy.**\n",
        "\n",
        "Problem - 1: Array Creation:"
      ],
      "metadata": {
        "id": "4dggy1rowdEg"
      }
    },
    {
      "cell_type": "code",
      "source": [
        "import numpy as np\n",
        "\n",
        "# 1. Initialize an empty array with size 2x2\n",
        "empty_array = np.empty((2, 2))\n",
        "print(\"Empty Array (2x2):\\n\", empty_array)\n",
        "\n",
        "# 2. Initialize an all ones array with size 4x2\n",
        "ones_array = np.ones((4, 2))\n",
        "print(\"\\nAll Ones Array (4x2):\\n\", ones_array)\n",
        "\n",
        "# 3. Return a new array of given shape and type, filled with a fill value\n",
        "fill_value_array = np.full((3, 3), 7)  # Example: 3x3 array filled with 7\n",
        "print(\"\\nArray Filled with 7 (3x3):\\n\", fill_value_array)\n",
        "\n",
        "# 4. Return a new array of zeros with same shape and type as a given array\n",
        "sample_array = np.array([[5, 10, 15], [20, 25, 30]])\n",
        "zeros_like_array = np.zeros_like(sample_array)\n",
        "print(\"\\nZeros Array with Same Shape as Sample Array:\\n\", zeros_like_array)\n",
        "\n",
        "# 5. Return a new array of ones with same shape and type as a given array\n",
        "ones_like_array = np.ones_like(sample_array)\n",
        "print(\"\\nOnes Array with Same Shape as Sample Array:\\n\", ones_like_array)\n",
        "\n",
        "# 6. Convert an existing list to a NumPy array\n",
        "new_list = [1, 2, 3, 4]\n",
        "numpy_array = np.array(new_list)\n",
        "print(\"\\nConverted NumPy Array:\\n\", numpy_array)"
      ],
      "metadata": {
        "colab": {
          "base_uri": "https://localhost:8080/"
        },
        "id": "2He7NRidwPL8",
        "outputId": "cc62936e-f04c-48b2-f832-93a87499cd35"
      },
      "execution_count": 18,
      "outputs": [
        {
          "output_type": "stream",
          "name": "stdout",
          "text": [
            "Empty Array (2x2):\n",
            " [[1.59136064e-316 0.00000000e+000]\n",
            " [2.29847904e+291 1.38216227e-075]]\n",
            "\n",
            "All Ones Array (4x2):\n",
            " [[1. 1.]\n",
            " [1. 1.]\n",
            " [1. 1.]\n",
            " [1. 1.]]\n",
            "\n",
            "Array Filled with 7 (3x3):\n",
            " [[7 7 7]\n",
            " [7 7 7]\n",
            " [7 7 7]]\n",
            "\n",
            "Zeros Array with Same Shape as Sample Array:\n",
            " [[0 0 0]\n",
            " [0 0 0]]\n",
            "\n",
            "Ones Array with Same Shape as Sample Array:\n",
            " [[1 1 1]\n",
            " [1 1 1]]\n",
            "\n",
            "Converted NumPy Array:\n",
            " [1 2 3 4]\n"
          ]
        }
      ]
    },
    {
      "cell_type": "markdown",
      "source": [
        "Problem - 2: Array Manipulation: Numerical Ranges and Array indexing"
      ],
      "metadata": {
        "id": "VD1MYjcAxQUs"
      }
    },
    {
      "cell_type": "code",
      "source": [
        "import numpy as np\n",
        "\n",
        "# 1. Create an array with values ranging from 10 to 49\n",
        "arr1 = np.arange(10, 50)\n",
        "print(\"Array with values from 10 to 49:\\n\", arr1)\n",
        "\n",
        "# 2. Create a 3x3 matrix with values ranging from 0 to 8\n",
        "arr2 = np.arange(9).reshape(3, 3)\n",
        "print(\"\\n3x3 Matrix with values from 0 to 8:\\n\", arr2)\n",
        "\n",
        "# 3. Create a 3x3 identity matrix\n",
        "identity_matrix = np.eye(3)\n",
        "print(\"\\n3x3 Identity Matrix:\\n\", identity_matrix)\n",
        "\n",
        "# 4. Create a random array of size 30 and find the mean\n",
        "random_arr = np.random.random(30)\n",
        "mean_value = random_arr.mean()\n",
        "print(\"\\nRandom Array (size 30):\\n\", random_arr)\n",
        "print(\"Mean of the Random Array:\", mean_value)\n",
        "\n",
        "# 5. Create a 10x10 array with random values and find min/max\n",
        "random_matrix = np.random.random((10, 10))\n",
        "min_value = random_matrix.min()\n",
        "max_value = random_matrix.max()\n",
        "print(\"\\n10x10 Random Matrix:\\n\", random_matrix)\n",
        "print(\"Minimum Value:\", min_value)\n",
        "print(\"Maximum Value:\", max_value)\n",
        "\n",
        "# 6. Create a zero array of size 10 and replace 5th element with 1\n",
        "zero_array = np.zeros(10)\n",
        "zero_array[4] = 1\n",
        "print(\"\\nZero Array with 5th Element as 1:\\n\", zero_array)\n",
        "\n",
        "# 7. Reverse an array\n",
        "arr = np.array([1, 2, 0, 0, 4, 0])\n",
        "reversed_arr = arr[::-1]\n",
        "print(\"\\nReversed Array:\\n\", reversed_arr)\n",
        "\n",
        "# 8. Create a 2D array with 1 on the border and 0 inside\n",
        "border_array = np.ones((5, 5))\n",
        "border_array[1:-1, 1:-1] = 0\n",
        "print(\"\\n2D Array with 1 on Border and 0 Inside:\\n\", border_array)\n",
        "\n",
        "# 9. Create an 8x8 matrix with a checkerboard pattern\n",
        "checkerboard = np.zeros((8, 8), dtype=int)\n",
        "checkerboard[1::2, ::2] = 1\n",
        "checkerboard[::2, 1::2] = 1\n",
        "print(\"\\n8x8 Checkerboard Pattern:\\n\", checkerboard)\n"
      ],
      "metadata": {
        "colab": {
          "base_uri": "https://localhost:8080/"
        },
        "id": "j2g1ApgOxQDQ",
        "outputId": "49f54bb6-fdd9-4352-d17a-aff4021b6aca"
      },
      "execution_count": 19,
      "outputs": [
        {
          "output_type": "stream",
          "name": "stdout",
          "text": [
            "Array with values from 10 to 49:\n",
            " [10 11 12 13 14 15 16 17 18 19 20 21 22 23 24 25 26 27 28 29 30 31 32 33\n",
            " 34 35 36 37 38 39 40 41 42 43 44 45 46 47 48 49]\n",
            "\n",
            "3x3 Matrix with values from 0 to 8:\n",
            " [[0 1 2]\n",
            " [3 4 5]\n",
            " [6 7 8]]\n",
            "\n",
            "3x3 Identity Matrix:\n",
            " [[1. 0. 0.]\n",
            " [0. 1. 0.]\n",
            " [0. 0. 1.]]\n",
            "\n",
            "Random Array (size 30):\n",
            " [0.9273679  0.89955482 0.4421856  0.98783919 0.12833464 0.39406352\n",
            " 0.36681988 0.73430745 0.49380408 0.55323488 0.98176013 0.93521885\n",
            " 0.13757327 0.6068766  0.33157693 0.85892851 0.07850749 0.39627729\n",
            " 0.65587025 0.96924409 0.2072562  0.45410453 0.39535254 0.46320263\n",
            " 0.40098191 0.69800868 0.37554076 0.57143627 0.5671236  0.0626341 ]\n",
            "Mean of the Random Array: 0.5358328866880154\n",
            "\n",
            "10x10 Random Matrix:\n",
            " [[0.29584614 0.90862683 0.83895435 0.43468451 0.65614419 0.72824755\n",
            "  0.57220787 0.9167786  0.71073448 0.18998678]\n",
            " [0.6290464  0.87215933 0.86637387 0.87474311 0.83143853 0.99352056\n",
            "  0.55690501 0.89261183 0.10215739 0.28517799]\n",
            " [0.91462042 0.36168235 0.64689661 0.14118867 0.17771426 0.34235638\n",
            "  0.19753904 0.62436438 0.0871565  0.27005654]\n",
            " [0.20727755 0.81833579 0.81682176 0.93387615 0.17619471 0.0657608\n",
            "  0.11323909 0.32117311 0.60901014 0.07965451]\n",
            " [0.57422455 0.92311338 0.48574165 0.85627099 0.75676046 0.00859923\n",
            "  0.95514991 0.74807702 0.77878838 0.71817798]\n",
            " [0.64259693 0.9523645  0.57984883 0.7576443  0.26241853 0.44404491\n",
            "  0.35928739 0.93154142 0.78858541 0.00108175]\n",
            " [0.20397755 0.90383408 0.34993972 0.93455899 0.40537265 0.43693385\n",
            "  0.03112237 0.49037446 0.5435651  0.67398097]\n",
            " [0.19179608 0.82335267 0.24457838 0.77798611 0.78757868 0.48428311\n",
            "  0.39911126 0.03091772 0.10848045 0.35485567]\n",
            " [0.38267024 0.13170487 0.61714128 0.84649865 0.18180738 0.92148813\n",
            "  0.38167569 0.94580626 0.64253413 0.42044733]\n",
            " [0.83348149 0.28884328 0.27769291 0.75700221 0.31804007 0.75287229\n",
            "  0.85329724 0.79184407 0.20730585 0.2032106 ]]\n",
            "Minimum Value: 0.001081746045128562\n",
            "Maximum Value: 0.9935205634750828\n",
            "\n",
            "Zero Array with 5th Element as 1:\n",
            " [0. 0. 0. 0. 1. 0. 0. 0. 0. 0.]\n",
            "\n",
            "Reversed Array:\n",
            " [0 4 0 0 2 1]\n",
            "\n",
            "2D Array with 1 on Border and 0 Inside:\n",
            " [[1. 1. 1. 1. 1.]\n",
            " [1. 0. 0. 0. 1.]\n",
            " [1. 0. 0. 0. 1.]\n",
            " [1. 0. 0. 0. 1.]\n",
            " [1. 1. 1. 1. 1.]]\n",
            "\n",
            "8x8 Checkerboard Pattern:\n",
            " [[0 1 0 1 0 1 0 1]\n",
            " [1 0 1 0 1 0 1 0]\n",
            " [0 1 0 1 0 1 0 1]\n",
            " [1 0 1 0 1 0 1 0]\n",
            " [0 1 0 1 0 1 0 1]\n",
            " [1 0 1 0 1 0 1 0]\n",
            " [0 1 0 1 0 1 0 1]\n",
            " [1 0 1 0 1 0 1 0]]\n"
          ]
        }
      ]
    },
    {
      "cell_type": "markdown",
      "source": [
        "Problem - 3: Array Operations"
      ],
      "metadata": {
        "id": "LbN5Now8xvVm"
      }
    },
    {
      "cell_type": "code",
      "source": [
        "import numpy as np\n",
        "\n",
        "# Given arrays\n",
        "x = np.array([[1, 2], [3, 5]])\n",
        "y = np.array([[5, 6], [7, 8]])\n",
        "v = np.array([9, 10])\n",
        "w = np.array([11, 12])\n",
        "\n",
        "# 1. Add the two arrays (x + y)\n",
        "add_result = x + y\n",
        "print(\"1. Addition of x and y:\\n\", add_result)\n",
        "\n",
        "# 2. Subtract the two arrays (x - y)\n",
        "subtract_result = x - y\n",
        "print(\"\\n2. Subtraction of x and y:\\n\", subtract_result)\n",
        "\n",
        "# 3. Multiply the array with any integer of your choice (e.g., multiply x by 2)\n",
        "multiply_result = x * 2\n",
        "print(\"\\n3. Multiply x by 2:\\n\", multiply_result)\n",
        "\n",
        "# 4. Find the square of each element of the array (x ** 2)\n",
        "square_result = x ** 2\n",
        "print(\"\\n4. Square of each element of x:\\n\", square_result)\n",
        "\n",
        "# 5. Find the dot product between:\n",
        "# v and w\n",
        "dot_vw = np.dot(v, w)\n",
        "print(\"\\n5. Dot product between v and w:\", dot_vw)\n",
        "\n",
        "# x and v\n",
        "dot_xv = np.dot(x, v)\n",
        "print(\"\\nDot product between x and v:\\n\", dot_xv)\n",
        "\n",
        "# x and y\n",
        "dot_xy = np.dot(x, y)\n",
        "print(\"\\nDot product between x and y:\\n\", dot_xy)\n",
        "\n",
        "# 6. Concatenate x and y along row and v and w along column\n",
        "\n",
        "# Concatenate x and y along rows (axis=0)\n",
        "concat_xy_row = np.concatenate((x, y), axis=0)\n",
        "print(\"\\n6. Concatenate x and y along row:\\n\", concat_xy_row)\n",
        "\n",
        "# Concatenate v and w along columns (axis=1)\n",
        "v_w_column = np.concatenate((v.reshape(-1, 1), w.reshape(-1, 1)), axis=1)\n",
        "print(\"\\nConcatenate v and w along column:\\n\", v_w_column)\n",
        "\n",
        "# 7. Concatenate x and v; if you get an error, observe and explain why\n",
        "\n",
        "try:\n",
        "    concat_xv = np.concatenate((x, v), axis=1)\n",
        "    print(\"\\n7. Concatenate x and v along columns:\\n\", concat_xv)\n",
        "except ValueError as e:\n",
        "    print(\"\\nError:\", e)"
      ],
      "metadata": {
        "colab": {
          "base_uri": "https://localhost:8080/"
        },
        "id": "iLFy3LKZxtdy",
        "outputId": "f4fda963-8850-4a7f-d379-9137df7a3400"
      },
      "execution_count": 20,
      "outputs": [
        {
          "output_type": "stream",
          "name": "stdout",
          "text": [
            "1. Addition of x and y:\n",
            " [[ 6  8]\n",
            " [10 13]]\n",
            "\n",
            "2. Subtraction of x and y:\n",
            " [[-4 -4]\n",
            " [-4 -3]]\n",
            "\n",
            "3. Multiply x by 2:\n",
            " [[ 2  4]\n",
            " [ 6 10]]\n",
            "\n",
            "4. Square of each element of x:\n",
            " [[ 1  4]\n",
            " [ 9 25]]\n",
            "\n",
            "5. Dot product between v and w: 219\n",
            "\n",
            "Dot product between x and v:\n",
            " [29 77]\n",
            "\n",
            "Dot product between x and y:\n",
            " [[19 22]\n",
            " [50 58]]\n",
            "\n",
            "6. Concatenate x and y along row:\n",
            " [[1 2]\n",
            " [3 5]\n",
            " [5 6]\n",
            " [7 8]]\n",
            "\n",
            "Concatenate v and w along column:\n",
            " [[ 9 11]\n",
            " [10 12]]\n",
            "\n",
            "Error: all the input arrays must have same number of dimensions, but the array at index 0 has 2 dimension(s) and the array at index 1 has 1 dimension(s)\n"
          ]
        }
      ]
    },
    {
      "cell_type": "markdown",
      "source": [
        "Problem - 4: Matrix Operations"
      ],
      "metadata": {
        "id": "uBl4fIMXyHBN"
      }
    },
    {
      "cell_type": "code",
      "source": [
        "import numpy as np\n",
        "\n",
        "# Given arrays A and B\n",
        "A = np.array([[3, 4], [7, 8]])\n",
        "B = np.array([[5, 3], [2, 1]])\n",
        "\n",
        "# Task 1: Prove A * A^(-1) = I (Identity Matrix)\n",
        "A_inv = np.linalg.inv(A)\n",
        "identity_matrix = np.dot(A, A_inv)\n",
        "print(\"1. A * A^(-1) = Identity Matrix:\\n\", identity_matrix)\n",
        "\n",
        "# Task 2: Prove AB != BA\n",
        "AB = np.dot(A, B)\n",
        "BA = np.dot(B, A)\n",
        "print(\"\\n2. AB != BA:\")\n",
        "print(\"AB:\\n\", AB)\n",
        "print(\"BA:\\n\", BA)\n",
        "print(\"Are AB and BA equal?\", np.array_equal(AB, BA))\n",
        "\n",
        "# Task 3: Prove (AB)^T = B^T * A^T\n",
        "AB_transpose = np.transpose(AB)  # (AB)^T\n",
        "B_transpose_A_transpose = np.dot(np.transpose(B), np.transpose(A))  # B^T * A^T\n",
        "print(\"\\n3. (AB)^T = B^T * A^T:\")\n",
        "print(\"(AB)^T:\\n\", AB_transpose)\n",
        "print(\"B^T * A^T:\\n\", B_transpose_A_transpose)\n",
        "print(\"Are (AB)^T and B^T * A^T equal?\", np.array_equal(AB_transpose, B_transpose_A_transpose))\n",
        "\n",
        "# Task 4: Solve the system of linear equations using Inverse Method\n",
        "# Represent the system in matrix form A * X = B\n",
        "A_system = np.array([[2, -3, 1], [1, -1, 2], [3, 1, -1]])\n",
        "B_system = np.array([-1, -3, 9])\n",
        "\n",
        "# Using the Inverse of A to solve for X\n",
        "A_inv_system = np.linalg.inv(A_system)\n",
        "X = np.dot(A_inv_system, B_system)\n",
        "print(\"\\n4. Solution of the system of linear equations (using Inverse method):\")\n",
        "print(f\"x = {X[0]}, y = {X[1]}, z = {X[2]}\")\n",
        "\n",
        "# Task 5: Solve the system using np.linalg.solve function\n",
        "# This is another approach using np.linalg.solve\n",
        "X_solve = np.linalg.solve(A_system, B_system)\n",
        "print(\"\\n5. Solution of the system using np.linalg.solve:\")\n",
        "print(f\"x = {X_solve[0]}, y = {X_solve[1]}, z = {X_solve[2]}\")"
      ],
      "metadata": {
        "colab": {
          "base_uri": "https://localhost:8080/"
        },
        "id": "emn29yFXyGvg",
        "outputId": "96ccde56-89bb-4d60-9e31-81b4b961f7ce"
      },
      "execution_count": 21,
      "outputs": [
        {
          "output_type": "stream",
          "name": "stdout",
          "text": [
            "1. A * A^(-1) = Identity Matrix:\n",
            " [[1.00000000e+00 0.00000000e+00]\n",
            " [1.77635684e-15 1.00000000e+00]]\n",
            "\n",
            "2. AB != BA:\n",
            "AB:\n",
            " [[23 13]\n",
            " [51 29]]\n",
            "BA:\n",
            " [[36 44]\n",
            " [13 16]]\n",
            "Are AB and BA equal? False\n",
            "\n",
            "3. (AB)^T = B^T * A^T:\n",
            "(AB)^T:\n",
            " [[23 51]\n",
            " [13 29]]\n",
            "B^T * A^T:\n",
            " [[23 51]\n",
            " [13 29]]\n",
            "Are (AB)^T and B^T * A^T equal? True\n",
            "\n",
            "4. Solution of the system of linear equations (using Inverse method):\n",
            "x = 2.0, y = 1.0, z = -2.0\n",
            "\n",
            "5. Solution of the system using np.linalg.solve:\n",
            "x = 2.0, y = 1.0000000000000002, z = -2.0\n"
          ]
        }
      ]
    },
    {
      "cell_type": "markdown",
      "source": [
        "**10.2 Experiment: How Fast is Numpy?**\n",
        "\n",
        "1. Element-wise Addition"
      ],
      "metadata": {
        "id": "BV2L0yOVy3P6"
      }
    },
    {
      "cell_type": "code",
      "source": [
        "import time\n",
        "import numpy as np\n",
        "\n",
        "# List size\n",
        "size = 1_000_000\n",
        "\n",
        "# Generate two Python lists with random values\n",
        "list1 = [i for i in range(size)]\n",
        "list2 = [i for i in range(size)]\n",
        "\n",
        "# Measure time for Python list addition\n",
        "start_time = time.time()\n",
        "result_list = [list1[i] + list2[i] for i in range(size)]\n",
        "end_time = time.time()\n",
        "python_time = end_time - start_time\n",
        "print(f\"Time taken using Python lists: {python_time:.6f} seconds\")\n",
        "\n",
        "# Generate two NumPy arrays\n",
        "array1 = np.arange(size)\n",
        "array2 = np.arange(size)\n",
        "\n",
        "# Measure time for NumPy array addition\n",
        "start_time = time.time()\n",
        "result_array = array1 + array2\n",
        "end_time = time.time()\n",
        "numpy_time = end_time - start_time\n",
        "print(f\"Time taken using NumPy arrays: {numpy_time:.6f} seconds\")\n",
        "\n",
        "# Performance comparison\n",
        "speedup = python_time / numpy_time\n",
        "print(f\"NumPy is approximately {speedup:.2f} times faster than Python lists.\")"
      ],
      "metadata": {
        "id": "k_EHXb0Dy8H4",
        "colab": {
          "base_uri": "https://localhost:8080/"
        },
        "outputId": "8b9187b9-25a5-4007-d46e-d9c112d67f11"
      },
      "execution_count": 22,
      "outputs": [
        {
          "output_type": "stream",
          "name": "stdout",
          "text": [
            "Time taken using Python lists: 0.114903 seconds\n",
            "Time taken using NumPy arrays: 0.005260 seconds\n",
            "NumPy is approximately 21.84 times faster than Python lists.\n"
          ]
        }
      ]
    },
    {
      "cell_type": "markdown",
      "source": [
        "2. Element-wise Multiplication"
      ],
      "metadata": {
        "id": "VGpiEMQTbsqN"
      }
    },
    {
      "cell_type": "code",
      "source": [
        "import time\n",
        "import numpy as np\n",
        "\n",
        "# List size\n",
        "size = 1_000_000\n",
        "\n",
        "# Generate two Python lists with values from 0 to size-1\n",
        "list1 = [i for i in range(size)]\n",
        "list2 = [i for i in range(size)]\n",
        "\n",
        "# Measure time for Python list multiplication\n",
        "start_time = time.time()\n",
        "result_list = [list1[i] * list2[i] for i in range(size)]\n",
        "end_time = time.time()\n",
        "python_time = end_time - start_time\n",
        "print(f\"Time taken using Python lists: {python_time:.6f} seconds\")\n",
        "\n",
        "# Generate two NumPy arrays\n",
        "array1 = np.arange(size)\n",
        "array2 = np.arange(size)\n",
        "\n",
        "# Measure time for NumPy array multiplication\n",
        "start_time = time.time()\n",
        "result_array = array1 * array2\n",
        "end_time = time.time()\n",
        "numpy_time = end_time - start_time\n",
        "print(f\"Time taken using NumPy arrays: {numpy_time:.6f} seconds\")\n",
        "\n",
        "# Performance comparison\n",
        "speedup = python_time / numpy_time\n",
        "print(f\"NumPy is approximately {speedup:.2f} times faster than Python lists.\")"
      ],
      "metadata": {
        "colab": {
          "base_uri": "https://localhost:8080/"
        },
        "id": "g5JplkOmbfHR",
        "outputId": "1eab5ecc-720c-439e-9c85-6b60a3dc93c6"
      },
      "execution_count": 23,
      "outputs": [
        {
          "output_type": "stream",
          "name": "stdout",
          "text": [
            "Time taken using Python lists: 0.127190 seconds\n",
            "Time taken using NumPy arrays: 0.005450 seconds\n",
            "NumPy is approximately 23.34 times faster than Python lists.\n"
          ]
        }
      ]
    },
    {
      "cell_type": "markdown",
      "source": [
        "3. Dot Product"
      ],
      "metadata": {
        "id": "3khzxXdacRf-"
      }
    },
    {
      "cell_type": "code",
      "source": [
        "import time\n",
        "import numpy as np\n",
        "\n",
        "# List size\n",
        "size = 1_000_000\n",
        "\n",
        "# Generate two Python lists\n",
        "list1 = [i for i in range(size)]\n",
        "list2 = [i for i in range(size)]\n",
        "\n",
        "# Measure time for dot product using Python lists\n",
        "start_time = time.time()\n",
        "dot_product_list = sum(list1[i] * list2[i] for i in range(size))\n",
        "end_time = time.time()\n",
        "python_time = end_time - start_time\n",
        "print(f\"Time taken using Python lists: {python_time:.6f} seconds\")\n",
        "\n",
        "# Generate two NumPy arrays\n",
        "array1 = np.arange(size)\n",
        "array2 = np.arange(size)\n",
        "\n",
        "# Measure time for dot product using NumPy arrays\n",
        "start_time = time.time()\n",
        "dot_product_numpy = np.dot(array1, array2)\n",
        "end_time = time.time()\n",
        "numpy_time = end_time - start_time\n",
        "print(f\"Time taken using NumPy arrays: {numpy_time:.6f} seconds\")\n",
        "\n",
        "# Performance comparison\n",
        "speedup = python_time / numpy_time\n",
        "print(f\"NumPy is approximately {speedup:.2f} times faster than Python lists.\")"
      ],
      "metadata": {
        "colab": {
          "base_uri": "https://localhost:8080/"
        },
        "id": "vw0UDNOmcROQ",
        "outputId": "a0659251-058f-4033-c5fd-fc2ddbbe8ea5"
      },
      "execution_count": 24,
      "outputs": [
        {
          "output_type": "stream",
          "name": "stdout",
          "text": [
            "Time taken using Python lists: 0.202785 seconds\n",
            "Time taken using NumPy arrays: 0.002050 seconds\n",
            "NumPy is approximately 98.90 times faster than Python lists.\n"
          ]
        }
      ]
    },
    {
      "cell_type": "markdown",
      "source": [
        "4. Matrix Multiplication"
      ],
      "metadata": {
        "id": "UiaJxCZfceaj"
      }
    },
    {
      "cell_type": "code",
      "source": [
        "import time\n",
        "import numpy as np\n",
        "\n",
        "# Matrix size\n",
        "size = 1000\n",
        "\n",
        "# Generate two matrices using Python lists\n",
        "matrix1 = [[i * j for j in range(size)] for i in range(size)]\n",
        "matrix2 = [[j * i for j in range(size)] for i in range(size)]\n",
        "\n",
        "# Measure time for matrix multiplication using Python lists\n",
        "start_time = time.time()\n",
        "result_matrix = [[sum(matrix1[i][k] * matrix2[k][j] for k in range(size)) for j in range(size)] for i in range(size)]\n",
        "end_time = time.time()\n",
        "python_time = end_time - start_time\n",
        "print(f\"Time taken using Python lists: {python_time:.6f} seconds\")\n",
        "\n",
        "# Generate two NumPy matrices\n",
        "array1 = np.array(matrix1)\n",
        "array2 = np.array(matrix2)\n",
        "\n",
        "# Measure time for matrix multiplication using NumPy\n",
        "start_time = time.time()\n",
        "result_array = np.dot(array1, array2)  # or array1 @ array2\n",
        "end_time = time.time()\n",
        "numpy_time = end_time - start_time\n",
        "print(f\"Time taken using NumPy arrays: {numpy_time:.6f} seconds\")\n",
        "\n",
        "# Performance comparison\n",
        "speedup = python_time / numpy_time\n",
        "print(f\"NumPy is approximately {speedup:.2f} times faster than Python lists.\")"
      ],
      "metadata": {
        "colab": {
          "base_uri": "https://localhost:8080/"
        },
        "id": "zsgmHxSqceMv",
        "outputId": "498b64cc-8927-4e8d-85a6-d0093dbacb66"
      },
      "execution_count": 25,
      "outputs": [
        {
          "output_type": "stream",
          "name": "stdout",
          "text": [
            "Time taken using Python lists: 180.814936 seconds\n",
            "Time taken using NumPy arrays: 2.288671 seconds\n",
            "NumPy is approximately 79.00 times faster than Python lists.\n"
          ]
        }
      ]
    }
  ]
}